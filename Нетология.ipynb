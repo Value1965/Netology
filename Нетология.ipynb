{
  "cells": [
    {
      "cell_type": "markdown",
      "metadata": {
        "id": "view-in-github",
        "colab_type": "text"
      },
      "source": [
        "<a href=\"https://colab.research.google.com/github/Value1965/Netology/blob/main/%D0%9D%D0%B5%D1%82%D0%BE%D0%BB%D0%BE%D0%B3%D0%B8%D1%8F.ipynb\" target=\"_parent\"><img src=\"https://colab.research.google.com/assets/colab-badge.svg\" alt=\"Open In Colab\"/></a>"
      ]
    },
    {
      "cell_type": "markdown",
      "metadata": {
        "id": "qb_ajqWXuguV"
      },
      "source": [
        "## Загрузим нужные библиотеки"
      ]
    },
    {
      "cell_type": "code",
      "execution_count": 67,
      "metadata": {
        "id": "MTgpe_1quUDs"
      },
      "outputs": [],
      "source": [
        "import pandas as pd\n",
        "import seaborn as sns\n",
        "import matplotlib.pyplot as plt\n",
        "from sklearn.model_selection import train_test_split\n",
        "from sklearn.ensemble import RandomForestClassifier\n",
        "from sklearn import tree\n",
        "import numpy as np\n",
        "from sklearn.metrics import recall_score, precision_score\n",
        "from datetime import datetime\n",
        "\n",
        "%matplotlib inline"
      ]
    },
    {
      "cell_type": "markdown",
      "metadata": {
        "id": "5TCYURStnI9U"
      },
      "source": [
        "##Подключим Google Disk для сохранения решений."
      ]
    },
    {
      "cell_type": "code",
      "execution_count": 68,
      "metadata": {
        "colab": {
          "base_uri": "https://localhost:8080/"
        },
        "id": "R7uqjr-ydeDF",
        "outputId": "320b9c10-f30d-48a4-d4bc-905646f99057"
      },
      "outputs": [
        {
          "output_type": "stream",
          "name": "stdout",
          "text": [
            "Drive already mounted at /content/drive; to attempt to forcibly remount, call drive.mount(\"/content/drive\", force_remount=True).\n"
          ]
        }
      ],
      "source": [
        "\n",
        "from google.colab import drive\n",
        "drive.mount('/content/drive')"
      ]
    },
    {
      "cell_type": "markdown",
      "metadata": {
        "id": "tvr6umdMncJ7"
      },
      "source": [
        "## Скачиваем тренировочный датасет"
      ]
    },
    {
      "cell_type": "code",
      "execution_count": 69,
      "metadata": {
        "colab": {
          "base_uri": "https://localhost:8080/"
        },
        "id": "o9N4JbcWudk2",
        "outputId": "d3ea6056-705a-4e65-b03f-832a38fd2735"
      },
      "outputs": [
        {
          "output_type": "stream",
          "name": "stdout",
          "text": [
            "--2022-08-06 06:17:05--  https://lodmedia.hb.bizmrg.com/case_files/774967/train_dataset_train.csv\n",
            "Resolving lodmedia.hb.bizmrg.com (lodmedia.hb.bizmrg.com)... 217.69.142.100\n",
            "Connecting to lodmedia.hb.bizmrg.com (lodmedia.hb.bizmrg.com)|217.69.142.100|:443... connected.\n",
            "HTTP request sent, awaiting response... 200 OK\n",
            "Length: 33402303 (32M) [text/csv]\n",
            "Saving to: ‘train_dataset_train.csv.1’\n",
            "\n",
            "train_dataset_train 100%[===================>]  31.85M  6.59MB/s    in 4.8s    \n",
            "\n",
            "2022-08-06 06:17:12 (6.59 MB/s) - ‘train_dataset_train.csv.1’ saved [33402303/33402303]\n",
            "\n"
          ]
        }
      ],
      "source": [
        "!wget https://lodmedia.hb.bizmrg.com/case_files/774967/train_dataset_train.csv\n",
        "df = pd.read_csv(\"/content/train_dataset_train.csv\")"
      ]
    },
    {
      "cell_type": "markdown",
      "metadata": {
        "id": "GgCS5B_PutbW"
      },
      "source": [
        "## Рассмотрим датасет по ближе"
      ]
    },
    {
      "cell_type": "code",
      "execution_count": 70,
      "metadata": {
        "colab": {
          "base_uri": "https://localhost:8080/",
          "height": 456
        },
        "id": "qEvfySMMutBR",
        "outputId": "ef4ad7c5-5e0c-440e-8899-0352e8684491"
      },
      "outputs": [
        {
          "output_type": "execute_result",
          "data": {
            "text/plain": [
              "       id  age_indicator    month_id  student_id  program_id carts_created_at  \\\n",
              "0   15182           32.0   9/30/2020     6694527        1469        8/26/2020   \n",
              "1   89385            NaN   6/30/2021     6712877        1392         8/5/2020   \n",
              "2   47931            NaN   2/28/2021     6659444         376        6/20/2020   \n",
              "3  279085            1.0  11/30/2021     7151591        1160        4/14/2021   \n",
              "4    7806           30.0  10/31/2020     6705666         952        7/19/2020   \n",
              "5  221530            NaN   4/30/2021     6784019         789       12/20/2020   \n",
              "6   80963            5.0   4/30/2021     6409144         242        2/27/2021   \n",
              "7  220105            NaN   4/30/2021     6314133         998        10/4/2020   \n",
              "8  215541           30.0   3/31/2021     6880163         459        11/6/2020   \n",
              "9   73193           11.0   5/31/2021     6629109         871        6/21/2020   \n",
              "\n",
              "   spent_time_total  spent_time_to_complete_hw  completed_hw  failed_hw  ...  \\\n",
              "0             163.0                        0.0           1.0        0.0  ...   \n",
              "1               NaN                        NaN           NaN        NaN  ...   \n",
              "2               NaN                        NaN           NaN        NaN  ...   \n",
              "3               NaN                        NaN           NaN        NaN  ...   \n",
              "4               NaN                        NaN           NaN        NaN  ...   \n",
              "5               9.0                        NaN           0.0        0.0  ...   \n",
              "6              28.0                        NaN           0.0        0.0  ...   \n",
              "7               NaN                        NaN           NaN        NaN  ...   \n",
              "8               NaN                        NaN           0.0        0.0  ...   \n",
              "9               NaN                        NaN           NaN        NaN  ...   \n",
              "\n",
              "   p_total_calls  p_was_conversations  p_total_duration  support_feedback_avg  \\\n",
              "0            NaN                  NaN               NaN                   4.0   \n",
              "1            NaN                  NaN               NaN                   NaN   \n",
              "2            NaN                  NaN               NaN                   NaN   \n",
              "3            NaN                  NaN               NaN                   NaN   \n",
              "4            NaN                  NaN               NaN                   NaN   \n",
              "5            NaN                  NaN               NaN                   5.0   \n",
              "6            NaN                  NaN               NaN                   NaN   \n",
              "7            NaN                  NaN               NaN                   NaN   \n",
              "8            NaN                  NaN               NaN                   5.0   \n",
              "9            NaN                  NaN               NaN                   NaN   \n",
              "\n",
              "   feedback_avg_d1  feedback_avg_d2  feedback_avg_d3  feedback_avg_d4  \\\n",
              "0              5.0              NaN              NaN              NaN   \n",
              "1              NaN              NaN              NaN              NaN   \n",
              "2              NaN              NaN              NaN              NaN   \n",
              "3              NaN              NaN              NaN              NaN   \n",
              "4              5.0              NaN              NaN              NaN   \n",
              "5              NaN              NaN              NaN              5.0   \n",
              "6              NaN              NaN         4.566105              NaN   \n",
              "7              NaN              4.0              NaN              NaN   \n",
              "8              NaN              NaN         5.000000              NaN   \n",
              "9              NaN              NaN              NaN              NaN   \n",
              "\n",
              "   feedback_avg_d5  target  \n",
              "0              NaN       0  \n",
              "1              NaN       0  \n",
              "2              NaN       0  \n",
              "3              NaN       0  \n",
              "4              NaN       0  \n",
              "5              NaN       0  \n",
              "6              NaN       0  \n",
              "7              NaN       0  \n",
              "8              NaN       3  \n",
              "9              NaN       0  \n",
              "\n",
              "[10 rows x 59 columns]"
            ],
            "text/html": [
              "\n",
              "  <div id=\"df-fc58f999-6b5d-4d10-a0df-09a0c4b92fc0\">\n",
              "    <div class=\"colab-df-container\">\n",
              "      <div>\n",
              "<style scoped>\n",
              "    .dataframe tbody tr th:only-of-type {\n",
              "        vertical-align: middle;\n",
              "    }\n",
              "\n",
              "    .dataframe tbody tr th {\n",
              "        vertical-align: top;\n",
              "    }\n",
              "\n",
              "    .dataframe thead th {\n",
              "        text-align: right;\n",
              "    }\n",
              "</style>\n",
              "<table border=\"1\" class=\"dataframe\">\n",
              "  <thead>\n",
              "    <tr style=\"text-align: right;\">\n",
              "      <th></th>\n",
              "      <th>id</th>\n",
              "      <th>age_indicator</th>\n",
              "      <th>month_id</th>\n",
              "      <th>student_id</th>\n",
              "      <th>program_id</th>\n",
              "      <th>carts_created_at</th>\n",
              "      <th>spent_time_total</th>\n",
              "      <th>spent_time_to_complete_hw</th>\n",
              "      <th>completed_hw</th>\n",
              "      <th>failed_hw</th>\n",
              "      <th>...</th>\n",
              "      <th>p_total_calls</th>\n",
              "      <th>p_was_conversations</th>\n",
              "      <th>p_total_duration</th>\n",
              "      <th>support_feedback_avg</th>\n",
              "      <th>feedback_avg_d1</th>\n",
              "      <th>feedback_avg_d2</th>\n",
              "      <th>feedback_avg_d3</th>\n",
              "      <th>feedback_avg_d4</th>\n",
              "      <th>feedback_avg_d5</th>\n",
              "      <th>target</th>\n",
              "    </tr>\n",
              "  </thead>\n",
              "  <tbody>\n",
              "    <tr>\n",
              "      <th>0</th>\n",
              "      <td>15182</td>\n",
              "      <td>32.0</td>\n",
              "      <td>9/30/2020</td>\n",
              "      <td>6694527</td>\n",
              "      <td>1469</td>\n",
              "      <td>8/26/2020</td>\n",
              "      <td>163.0</td>\n",
              "      <td>0.0</td>\n",
              "      <td>1.0</td>\n",
              "      <td>0.0</td>\n",
              "      <td>...</td>\n",
              "      <td>NaN</td>\n",
              "      <td>NaN</td>\n",
              "      <td>NaN</td>\n",
              "      <td>4.0</td>\n",
              "      <td>5.0</td>\n",
              "      <td>NaN</td>\n",
              "      <td>NaN</td>\n",
              "      <td>NaN</td>\n",
              "      <td>NaN</td>\n",
              "      <td>0</td>\n",
              "    </tr>\n",
              "    <tr>\n",
              "      <th>1</th>\n",
              "      <td>89385</td>\n",
              "      <td>NaN</td>\n",
              "      <td>6/30/2021</td>\n",
              "      <td>6712877</td>\n",
              "      <td>1392</td>\n",
              "      <td>8/5/2020</td>\n",
              "      <td>NaN</td>\n",
              "      <td>NaN</td>\n",
              "      <td>NaN</td>\n",
              "      <td>NaN</td>\n",
              "      <td>...</td>\n",
              "      <td>NaN</td>\n",
              "      <td>NaN</td>\n",
              "      <td>NaN</td>\n",
              "      <td>NaN</td>\n",
              "      <td>NaN</td>\n",
              "      <td>NaN</td>\n",
              "      <td>NaN</td>\n",
              "      <td>NaN</td>\n",
              "      <td>NaN</td>\n",
              "      <td>0</td>\n",
              "    </tr>\n",
              "    <tr>\n",
              "      <th>2</th>\n",
              "      <td>47931</td>\n",
              "      <td>NaN</td>\n",
              "      <td>2/28/2021</td>\n",
              "      <td>6659444</td>\n",
              "      <td>376</td>\n",
              "      <td>6/20/2020</td>\n",
              "      <td>NaN</td>\n",
              "      <td>NaN</td>\n",
              "      <td>NaN</td>\n",
              "      <td>NaN</td>\n",
              "      <td>...</td>\n",
              "      <td>NaN</td>\n",
              "      <td>NaN</td>\n",
              "      <td>NaN</td>\n",
              "      <td>NaN</td>\n",
              "      <td>NaN</td>\n",
              "      <td>NaN</td>\n",
              "      <td>NaN</td>\n",
              "      <td>NaN</td>\n",
              "      <td>NaN</td>\n",
              "      <td>0</td>\n",
              "    </tr>\n",
              "    <tr>\n",
              "      <th>3</th>\n",
              "      <td>279085</td>\n",
              "      <td>1.0</td>\n",
              "      <td>11/30/2021</td>\n",
              "      <td>7151591</td>\n",
              "      <td>1160</td>\n",
              "      <td>4/14/2021</td>\n",
              "      <td>NaN</td>\n",
              "      <td>NaN</td>\n",
              "      <td>NaN</td>\n",
              "      <td>NaN</td>\n",
              "      <td>...</td>\n",
              "      <td>NaN</td>\n",
              "      <td>NaN</td>\n",
              "      <td>NaN</td>\n",
              "      <td>NaN</td>\n",
              "      <td>NaN</td>\n",
              "      <td>NaN</td>\n",
              "      <td>NaN</td>\n",
              "      <td>NaN</td>\n",
              "      <td>NaN</td>\n",
              "      <td>0</td>\n",
              "    </tr>\n",
              "    <tr>\n",
              "      <th>4</th>\n",
              "      <td>7806</td>\n",
              "      <td>30.0</td>\n",
              "      <td>10/31/2020</td>\n",
              "      <td>6705666</td>\n",
              "      <td>952</td>\n",
              "      <td>7/19/2020</td>\n",
              "      <td>NaN</td>\n",
              "      <td>NaN</td>\n",
              "      <td>NaN</td>\n",
              "      <td>NaN</td>\n",
              "      <td>...</td>\n",
              "      <td>NaN</td>\n",
              "      <td>NaN</td>\n",
              "      <td>NaN</td>\n",
              "      <td>NaN</td>\n",
              "      <td>5.0</td>\n",
              "      <td>NaN</td>\n",
              "      <td>NaN</td>\n",
              "      <td>NaN</td>\n",
              "      <td>NaN</td>\n",
              "      <td>0</td>\n",
              "    </tr>\n",
              "    <tr>\n",
              "      <th>5</th>\n",
              "      <td>221530</td>\n",
              "      <td>NaN</td>\n",
              "      <td>4/30/2021</td>\n",
              "      <td>6784019</td>\n",
              "      <td>789</td>\n",
              "      <td>12/20/2020</td>\n",
              "      <td>9.0</td>\n",
              "      <td>NaN</td>\n",
              "      <td>0.0</td>\n",
              "      <td>0.0</td>\n",
              "      <td>...</td>\n",
              "      <td>NaN</td>\n",
              "      <td>NaN</td>\n",
              "      <td>NaN</td>\n",
              "      <td>5.0</td>\n",
              "      <td>NaN</td>\n",
              "      <td>NaN</td>\n",
              "      <td>NaN</td>\n",
              "      <td>5.0</td>\n",
              "      <td>NaN</td>\n",
              "      <td>0</td>\n",
              "    </tr>\n",
              "    <tr>\n",
              "      <th>6</th>\n",
              "      <td>80963</td>\n",
              "      <td>5.0</td>\n",
              "      <td>4/30/2021</td>\n",
              "      <td>6409144</td>\n",
              "      <td>242</td>\n",
              "      <td>2/27/2021</td>\n",
              "      <td>28.0</td>\n",
              "      <td>NaN</td>\n",
              "      <td>0.0</td>\n",
              "      <td>0.0</td>\n",
              "      <td>...</td>\n",
              "      <td>NaN</td>\n",
              "      <td>NaN</td>\n",
              "      <td>NaN</td>\n",
              "      <td>NaN</td>\n",
              "      <td>NaN</td>\n",
              "      <td>NaN</td>\n",
              "      <td>4.566105</td>\n",
              "      <td>NaN</td>\n",
              "      <td>NaN</td>\n",
              "      <td>0</td>\n",
              "    </tr>\n",
              "    <tr>\n",
              "      <th>7</th>\n",
              "      <td>220105</td>\n",
              "      <td>NaN</td>\n",
              "      <td>4/30/2021</td>\n",
              "      <td>6314133</td>\n",
              "      <td>998</td>\n",
              "      <td>10/4/2020</td>\n",
              "      <td>NaN</td>\n",
              "      <td>NaN</td>\n",
              "      <td>NaN</td>\n",
              "      <td>NaN</td>\n",
              "      <td>...</td>\n",
              "      <td>NaN</td>\n",
              "      <td>NaN</td>\n",
              "      <td>NaN</td>\n",
              "      <td>NaN</td>\n",
              "      <td>NaN</td>\n",
              "      <td>4.0</td>\n",
              "      <td>NaN</td>\n",
              "      <td>NaN</td>\n",
              "      <td>NaN</td>\n",
              "      <td>0</td>\n",
              "    </tr>\n",
              "    <tr>\n",
              "      <th>8</th>\n",
              "      <td>215541</td>\n",
              "      <td>30.0</td>\n",
              "      <td>3/31/2021</td>\n",
              "      <td>6880163</td>\n",
              "      <td>459</td>\n",
              "      <td>11/6/2020</td>\n",
              "      <td>NaN</td>\n",
              "      <td>NaN</td>\n",
              "      <td>0.0</td>\n",
              "      <td>0.0</td>\n",
              "      <td>...</td>\n",
              "      <td>NaN</td>\n",
              "      <td>NaN</td>\n",
              "      <td>NaN</td>\n",
              "      <td>5.0</td>\n",
              "      <td>NaN</td>\n",
              "      <td>NaN</td>\n",
              "      <td>5.000000</td>\n",
              "      <td>NaN</td>\n",
              "      <td>NaN</td>\n",
              "      <td>3</td>\n",
              "    </tr>\n",
              "    <tr>\n",
              "      <th>9</th>\n",
              "      <td>73193</td>\n",
              "      <td>11.0</td>\n",
              "      <td>5/31/2021</td>\n",
              "      <td>6629109</td>\n",
              "      <td>871</td>\n",
              "      <td>6/21/2020</td>\n",
              "      <td>NaN</td>\n",
              "      <td>NaN</td>\n",
              "      <td>NaN</td>\n",
              "      <td>NaN</td>\n",
              "      <td>...</td>\n",
              "      <td>NaN</td>\n",
              "      <td>NaN</td>\n",
              "      <td>NaN</td>\n",
              "      <td>NaN</td>\n",
              "      <td>NaN</td>\n",
              "      <td>NaN</td>\n",
              "      <td>NaN</td>\n",
              "      <td>NaN</td>\n",
              "      <td>NaN</td>\n",
              "      <td>0</td>\n",
              "    </tr>\n",
              "  </tbody>\n",
              "</table>\n",
              "<p>10 rows × 59 columns</p>\n",
              "</div>\n",
              "      <button class=\"colab-df-convert\" onclick=\"convertToInteractive('df-fc58f999-6b5d-4d10-a0df-09a0c4b92fc0')\"\n",
              "              title=\"Convert this dataframe to an interactive table.\"\n",
              "              style=\"display:none;\">\n",
              "        \n",
              "  <svg xmlns=\"http://www.w3.org/2000/svg\" height=\"24px\"viewBox=\"0 0 24 24\"\n",
              "       width=\"24px\">\n",
              "    <path d=\"M0 0h24v24H0V0z\" fill=\"none\"/>\n",
              "    <path d=\"M18.56 5.44l.94 2.06.94-2.06 2.06-.94-2.06-.94-.94-2.06-.94 2.06-2.06.94zm-11 1L8.5 8.5l.94-2.06 2.06-.94-2.06-.94L8.5 2.5l-.94 2.06-2.06.94zm10 10l.94 2.06.94-2.06 2.06-.94-2.06-.94-.94-2.06-.94 2.06-2.06.94z\"/><path d=\"M17.41 7.96l-1.37-1.37c-.4-.4-.92-.59-1.43-.59-.52 0-1.04.2-1.43.59L10.3 9.45l-7.72 7.72c-.78.78-.78 2.05 0 2.83L4 21.41c.39.39.9.59 1.41.59.51 0 1.02-.2 1.41-.59l7.78-7.78 2.81-2.81c.8-.78.8-2.07 0-2.86zM5.41 20L4 18.59l7.72-7.72 1.47 1.35L5.41 20z\"/>\n",
              "  </svg>\n",
              "      </button>\n",
              "      \n",
              "  <style>\n",
              "    .colab-df-container {\n",
              "      display:flex;\n",
              "      flex-wrap:wrap;\n",
              "      gap: 12px;\n",
              "    }\n",
              "\n",
              "    .colab-df-convert {\n",
              "      background-color: #E8F0FE;\n",
              "      border: none;\n",
              "      border-radius: 50%;\n",
              "      cursor: pointer;\n",
              "      display: none;\n",
              "      fill: #1967D2;\n",
              "      height: 32px;\n",
              "      padding: 0 0 0 0;\n",
              "      width: 32px;\n",
              "    }\n",
              "\n",
              "    .colab-df-convert:hover {\n",
              "      background-color: #E2EBFA;\n",
              "      box-shadow: 0px 1px 2px rgba(60, 64, 67, 0.3), 0px 1px 3px 1px rgba(60, 64, 67, 0.15);\n",
              "      fill: #174EA6;\n",
              "    }\n",
              "\n",
              "    [theme=dark] .colab-df-convert {\n",
              "      background-color: #3B4455;\n",
              "      fill: #D2E3FC;\n",
              "    }\n",
              "\n",
              "    [theme=dark] .colab-df-convert:hover {\n",
              "      background-color: #434B5C;\n",
              "      box-shadow: 0px 1px 3px 1px rgba(0, 0, 0, 0.15);\n",
              "      filter: drop-shadow(0px 1px 2px rgba(0, 0, 0, 0.3));\n",
              "      fill: #FFFFFF;\n",
              "    }\n",
              "  </style>\n",
              "\n",
              "      <script>\n",
              "        const buttonEl =\n",
              "          document.querySelector('#df-fc58f999-6b5d-4d10-a0df-09a0c4b92fc0 button.colab-df-convert');\n",
              "        buttonEl.style.display =\n",
              "          google.colab.kernel.accessAllowed ? 'block' : 'none';\n",
              "\n",
              "        async function convertToInteractive(key) {\n",
              "          const element = document.querySelector('#df-fc58f999-6b5d-4d10-a0df-09a0c4b92fc0');\n",
              "          const dataTable =\n",
              "            await google.colab.kernel.invokeFunction('convertToInteractive',\n",
              "                                                     [key], {});\n",
              "          if (!dataTable) return;\n",
              "\n",
              "          const docLinkHtml = 'Like what you see? Visit the ' +\n",
              "            '<a target=\"_blank\" href=https://colab.research.google.com/notebooks/data_table.ipynb>data table notebook</a>'\n",
              "            + ' to learn more about interactive tables.';\n",
              "          element.innerHTML = '';\n",
              "          dataTable['output_type'] = 'display_data';\n",
              "          await google.colab.output.renderOutput(dataTable, element);\n",
              "          const docLink = document.createElement('div');\n",
              "          docLink.innerHTML = docLinkHtml;\n",
              "          element.appendChild(docLink);\n",
              "        }\n",
              "      </script>\n",
              "    </div>\n",
              "  </div>\n",
              "  "
            ]
          },
          "metadata": {},
          "execution_count": 70
        }
      ],
      "source": [
        "df.head(10)"
      ]
    },
    {
      "cell_type": "markdown",
      "metadata": {
        "id": "baPpnTLVnrk-"
      },
      "source": [
        "## Рассмотрим поля датасета"
      ]
    },
    {
      "cell_type": "code",
      "execution_count": 71,
      "metadata": {
        "colab": {
          "base_uri": "https://localhost:8080/"
        },
        "id": "NUHy7c-tuegn",
        "outputId": "9457c8a0-addb-484a-d9fb-e58800cea645"
      },
      "outputs": [
        {
          "output_type": "stream",
          "name": "stdout",
          "text": [
            "<class 'pandas.core.frame.DataFrame'>\n",
            "RangeIndex: 200000 entries, 0 to 199999\n",
            "Data columns (total 59 columns):\n",
            " #   Column                     Non-Null Count   Dtype  \n",
            "---  ------                     --------------   -----  \n",
            " 0   id                         200000 non-null  int64  \n",
            " 1   age_indicator              159123 non-null  float64\n",
            " 2   month_id                   200000 non-null  object \n",
            " 3   student_id                 200000 non-null  int64  \n",
            " 4   program_id                 200000 non-null  int64  \n",
            " 5   carts_created_at           200000 non-null  object \n",
            " 6   spent_time_total           86309 non-null   float64\n",
            " 7   spent_time_to_complete_hw  42467 non-null   float64\n",
            " 8   completed_hw               97599 non-null   float64\n",
            " 9   failed_hw                  97599 non-null   float64\n",
            " 10  reworked_hw                97599 non-null   float64\n",
            " 11  interacted_hw              97599 non-null   float64\n",
            " 12  avg_hw_mark                44496 non-null   float64\n",
            " 13  test_with_good_mark        97599 non-null   float64\n",
            " 14  test_with_great_mark       97599 non-null   float64\n",
            " 15  webinars                   97599 non-null   float64\n",
            " 16  avg_quiz_result            16259 non-null   float64\n",
            " 17  notes                      97599 non-null   float64\n",
            " 18  hw_leader                  97599 non-null   float64\n",
            " 19  lessons                    97599 non-null   float64\n",
            " 20  activity                   97599 non-null   float64\n",
            " 21  bought_d1                  200000 non-null  int64  \n",
            " 22  bought_d2                  200000 non-null  int64  \n",
            " 23  bought_d3                  200000 non-null  int64  \n",
            " 24  bought_d4                  200000 non-null  int64  \n",
            " 25  bought_d5                  200000 non-null  int64  \n",
            " 26  bought_avg_duration        10359 non-null   float64\n",
            " 27  payment_type               200000 non-null  int64  \n",
            " 28  promo                      200000 non-null  object \n",
            " 29  price                      200000 non-null  float64\n",
            " 30  communication_type         198595 non-null  object \n",
            " 31  auto_payment               200000 non-null  int64  \n",
            " 32  ABC                        200000 non-null  object \n",
            " 33  city                       13592 non-null   object \n",
            " 34  country                    12944 non-null   object \n",
            " 35  gender                     199940 non-null  float64\n",
            " 36  speed_recall               21880 non-null   float64\n",
            " 37  os                         77374 non-null   object \n",
            " 38  browser                    77374 non-null   object \n",
            " 39  platform                   77361 non-null   object \n",
            " 40  m_avg_talk_duration        51537 non-null   float64\n",
            " 41  m_avg_duration             45764 non-null   float64\n",
            " 42  m_missed_calls             51537 non-null   float64\n",
            " 43  m_total_calls              51537 non-null   float64\n",
            " 44  m_was_conversations        51537 non-null   float64\n",
            " 45  m_total_duration           51537 non-null   float64\n",
            " 46  p_avg_talk_duration        16453 non-null   float64\n",
            " 47  p_avg_duration             13488 non-null   float64\n",
            " 48  p_missed_calls             16453 non-null   float64\n",
            " 49  p_total_calls              16453 non-null   float64\n",
            " 50  p_was_conversations        16453 non-null   float64\n",
            " 51  p_total_duration           16453 non-null   float64\n",
            " 52  support_feedback_avg       37557 non-null   float64\n",
            " 53  feedback_avg_d1            48496 non-null   float64\n",
            " 54  feedback_avg_d2            14805 non-null   float64\n",
            " 55  feedback_avg_d3            17778 non-null   float64\n",
            " 56  feedback_avg_d4            25076 non-null   float64\n",
            " 57  feedback_avg_d5            15733 non-null   float64\n",
            " 58  target                     200000 non-null  int64  \n",
            "dtypes: float64(38), int64(11), object(10)\n",
            "memory usage: 90.0+ MB\n"
          ]
        }
      ],
      "source": [
        "df.info()"
      ]
    },
    {
      "cell_type": "markdown",
      "metadata": {
        "id": "7Vg2MMqZn4y2"
      },
      "source": [
        "## Категориальные поля"
      ]
    },
    {
      "cell_type": "code",
      "execution_count": 72,
      "metadata": {
        "id": "6WNhhO_UHHzD"
      },
      "outputs": [],
      "source": [
        "\n",
        "cat_cols=['student_id', 'program_id', 'payment_type', 'promo',\n",
        "       'communication_type', 'auto_payment', 'ABC', 'gender', #'city', 'country',\n",
        "       'os', 'browser', 'platform']\n"
      ]
    },
    {
      "cell_type": "markdown",
      "metadata": {
        "id": "X3TqZ-97oJrx"
      },
      "source": [
        "##Поработаем c полями country и city"
      ]
    },
    {
      "cell_type": "code",
      "execution_count": 73,
      "metadata": {
        "colab": {
          "base_uri": "https://localhost:8080/"
        },
        "id": "QmYhbUv0-veH",
        "outputId": "e9b30019-ce53-4a76-e916-df832ffbb86b"
      },
      "outputs": [
        {
          "output_type": "execute_result",
          "data": {
            "text/plain": [
              "736"
            ]
          },
          "metadata": {},
          "execution_count": 73
        }
      ],
      "source": [
        "#Существуют города без стран\n",
        "df[df['city'].notna()]['country'].isna().sum()"
      ]
    },
    {
      "cell_type": "code",
      "execution_count": 74,
      "metadata": {
        "colab": {
          "base_uri": "https://localhost:8080/",
          "height": 424
        },
        "id": "7O5DbMQeAQVx",
        "outputId": "4aea826c-5c87-46cf-888e-513af055a9ff"
      },
      "outputs": [
        {
          "output_type": "execute_result",
          "data": {
            "text/plain": [
              "        student_id country city\n",
              "3257       5430379  Россия  NaN\n",
              "6377       5457646  Россия  NaN\n",
              "7126       4841121  Россия  NaN\n",
              "7158       5430379  Россия  NaN\n",
              "8137       4841121  Россия  NaN\n",
              "...            ...     ...  ...\n",
              "176499     6883877  Россия  NaN\n",
              "177732     4841121  Россия  NaN\n",
              "181390     5291453  Россия  NaN\n",
              "182236     6175663  Россия  NaN\n",
              "195340     6883877  Россия  NaN\n",
              "\n",
              "[88 rows x 3 columns]"
            ],
            "text/html": [
              "\n",
              "  <div id=\"df-b3ce923b-e96a-4ac0-ad05-8f32f269911f\">\n",
              "    <div class=\"colab-df-container\">\n",
              "      <div>\n",
              "<style scoped>\n",
              "    .dataframe tbody tr th:only-of-type {\n",
              "        vertical-align: middle;\n",
              "    }\n",
              "\n",
              "    .dataframe tbody tr th {\n",
              "        vertical-align: top;\n",
              "    }\n",
              "\n",
              "    .dataframe thead th {\n",
              "        text-align: right;\n",
              "    }\n",
              "</style>\n",
              "<table border=\"1\" class=\"dataframe\">\n",
              "  <thead>\n",
              "    <tr style=\"text-align: right;\">\n",
              "      <th></th>\n",
              "      <th>student_id</th>\n",
              "      <th>country</th>\n",
              "      <th>city</th>\n",
              "    </tr>\n",
              "  </thead>\n",
              "  <tbody>\n",
              "    <tr>\n",
              "      <th>3257</th>\n",
              "      <td>5430379</td>\n",
              "      <td>Россия</td>\n",
              "      <td>NaN</td>\n",
              "    </tr>\n",
              "    <tr>\n",
              "      <th>6377</th>\n",
              "      <td>5457646</td>\n",
              "      <td>Россия</td>\n",
              "      <td>NaN</td>\n",
              "    </tr>\n",
              "    <tr>\n",
              "      <th>7126</th>\n",
              "      <td>4841121</td>\n",
              "      <td>Россия</td>\n",
              "      <td>NaN</td>\n",
              "    </tr>\n",
              "    <tr>\n",
              "      <th>7158</th>\n",
              "      <td>5430379</td>\n",
              "      <td>Россия</td>\n",
              "      <td>NaN</td>\n",
              "    </tr>\n",
              "    <tr>\n",
              "      <th>8137</th>\n",
              "      <td>4841121</td>\n",
              "      <td>Россия</td>\n",
              "      <td>NaN</td>\n",
              "    </tr>\n",
              "    <tr>\n",
              "      <th>...</th>\n",
              "      <td>...</td>\n",
              "      <td>...</td>\n",
              "      <td>...</td>\n",
              "    </tr>\n",
              "    <tr>\n",
              "      <th>176499</th>\n",
              "      <td>6883877</td>\n",
              "      <td>Россия</td>\n",
              "      <td>NaN</td>\n",
              "    </tr>\n",
              "    <tr>\n",
              "      <th>177732</th>\n",
              "      <td>4841121</td>\n",
              "      <td>Россия</td>\n",
              "      <td>NaN</td>\n",
              "    </tr>\n",
              "    <tr>\n",
              "      <th>181390</th>\n",
              "      <td>5291453</td>\n",
              "      <td>Россия</td>\n",
              "      <td>NaN</td>\n",
              "    </tr>\n",
              "    <tr>\n",
              "      <th>182236</th>\n",
              "      <td>6175663</td>\n",
              "      <td>Россия</td>\n",
              "      <td>NaN</td>\n",
              "    </tr>\n",
              "    <tr>\n",
              "      <th>195340</th>\n",
              "      <td>6883877</td>\n",
              "      <td>Россия</td>\n",
              "      <td>NaN</td>\n",
              "    </tr>\n",
              "  </tbody>\n",
              "</table>\n",
              "<p>88 rows × 3 columns</p>\n",
              "</div>\n",
              "      <button class=\"colab-df-convert\" onclick=\"convertToInteractive('df-b3ce923b-e96a-4ac0-ad05-8f32f269911f')\"\n",
              "              title=\"Convert this dataframe to an interactive table.\"\n",
              "              style=\"display:none;\">\n",
              "        \n",
              "  <svg xmlns=\"http://www.w3.org/2000/svg\" height=\"24px\"viewBox=\"0 0 24 24\"\n",
              "       width=\"24px\">\n",
              "    <path d=\"M0 0h24v24H0V0z\" fill=\"none\"/>\n",
              "    <path d=\"M18.56 5.44l.94 2.06.94-2.06 2.06-.94-2.06-.94-.94-2.06-.94 2.06-2.06.94zm-11 1L8.5 8.5l.94-2.06 2.06-.94-2.06-.94L8.5 2.5l-.94 2.06-2.06.94zm10 10l.94 2.06.94-2.06 2.06-.94-2.06-.94-.94-2.06-.94 2.06-2.06.94z\"/><path d=\"M17.41 7.96l-1.37-1.37c-.4-.4-.92-.59-1.43-.59-.52 0-1.04.2-1.43.59L10.3 9.45l-7.72 7.72c-.78.78-.78 2.05 0 2.83L4 21.41c.39.39.9.59 1.41.59.51 0 1.02-.2 1.41-.59l7.78-7.78 2.81-2.81c.8-.78.8-2.07 0-2.86zM5.41 20L4 18.59l7.72-7.72 1.47 1.35L5.41 20z\"/>\n",
              "  </svg>\n",
              "      </button>\n",
              "      \n",
              "  <style>\n",
              "    .colab-df-container {\n",
              "      display:flex;\n",
              "      flex-wrap:wrap;\n",
              "      gap: 12px;\n",
              "    }\n",
              "\n",
              "    .colab-df-convert {\n",
              "      background-color: #E8F0FE;\n",
              "      border: none;\n",
              "      border-radius: 50%;\n",
              "      cursor: pointer;\n",
              "      display: none;\n",
              "      fill: #1967D2;\n",
              "      height: 32px;\n",
              "      padding: 0 0 0 0;\n",
              "      width: 32px;\n",
              "    }\n",
              "\n",
              "    .colab-df-convert:hover {\n",
              "      background-color: #E2EBFA;\n",
              "      box-shadow: 0px 1px 2px rgba(60, 64, 67, 0.3), 0px 1px 3px 1px rgba(60, 64, 67, 0.15);\n",
              "      fill: #174EA6;\n",
              "    }\n",
              "\n",
              "    [theme=dark] .colab-df-convert {\n",
              "      background-color: #3B4455;\n",
              "      fill: #D2E3FC;\n",
              "    }\n",
              "\n",
              "    [theme=dark] .colab-df-convert:hover {\n",
              "      background-color: #434B5C;\n",
              "      box-shadow: 0px 1px 3px 1px rgba(0, 0, 0, 0.15);\n",
              "      filter: drop-shadow(0px 1px 2px rgba(0, 0, 0, 0.3));\n",
              "      fill: #FFFFFF;\n",
              "    }\n",
              "  </style>\n",
              "\n",
              "      <script>\n",
              "        const buttonEl =\n",
              "          document.querySelector('#df-b3ce923b-e96a-4ac0-ad05-8f32f269911f button.colab-df-convert');\n",
              "        buttonEl.style.display =\n",
              "          google.colab.kernel.accessAllowed ? 'block' : 'none';\n",
              "\n",
              "        async function convertToInteractive(key) {\n",
              "          const element = document.querySelector('#df-b3ce923b-e96a-4ac0-ad05-8f32f269911f');\n",
              "          const dataTable =\n",
              "            await google.colab.kernel.invokeFunction('convertToInteractive',\n",
              "                                                     [key], {});\n",
              "          if (!dataTable) return;\n",
              "\n",
              "          const docLinkHtml = 'Like what you see? Visit the ' +\n",
              "            '<a target=\"_blank\" href=https://colab.research.google.com/notebooks/data_table.ipynb>data table notebook</a>'\n",
              "            + ' to learn more about interactive tables.';\n",
              "          element.innerHTML = '';\n",
              "          dataTable['output_type'] = 'display_data';\n",
              "          await google.colab.output.renderOutput(dataTable, element);\n",
              "          const docLink = document.createElement('div');\n",
              "          docLink.innerHTML = docLinkHtml;\n",
              "          element.appendChild(docLink);\n",
              "        }\n",
              "      </script>\n",
              "    </div>\n",
              "  </div>\n",
              "  "
            ]
          },
          "metadata": {},
          "execution_count": 74
        }
      ],
      "source": [
        "# Существуют страны без городов\n",
        "df[df['country'].notna()&df['city'].isna()][['student_id','country','city']]"
      ]
    },
    {
      "cell_type": "code",
      "source": [
        ""
      ],
      "metadata": {
        "id": "dvEwzC3aq_A4"
      },
      "execution_count": 74,
      "outputs": []
    },
    {
      "cell_type": "code",
      "execution_count": 75,
      "metadata": {
        "colab": {
          "base_uri": "https://localhost:8080/"
        },
        "id": "F-sUoJWCo5UD",
        "outputId": "347049ef-5cd2-40b9-9f12-8f723b1e8afb"
      },
      "outputs": [
        {
          "output_type": "stream",
          "name": "stdout",
          "text": [
            "city DISTRIBUTION\n",
            "Москва             5943\n",
            "Санкт-Петербург    1698\n",
            "Екатеринбург        272\n",
            "Нижний Новгород     217\n",
            "Новосибирск         195\n",
            "                   ... \n",
            "Михайловск            1\n",
            "Таганрог              1\n",
            "Almere                1\n",
            "Budva                 1\n",
            "Москва/Сочи           1\n",
            "Name: city, Length: 276, dtype: int64\n",
            "country DISTRIBUTION\n",
            "Россия                   11727\n",
            "Беларусь                   203\n",
            "РФ                         202\n",
            "Казахстан                  161\n",
            "Украина                    157\n",
            "Росссия                     52\n",
            "Кыргызстан                  47\n",
            "Кипр                        41\n",
            "Латвия                      36\n",
            "Германия                    28\n",
            "Чешская Республика          20\n",
            "Китай                       20\n",
            "Франция                     19\n",
            "Бельгия                     19\n",
            "Испания                     17\n",
            "Швейцария                   17\n",
            "<span>Россия</span>         17\n",
            "США                         15\n",
            "Польша                      13\n",
            "Люксембург                  13\n",
            "Чили                        11\n",
            "Великобритания              11\n",
            "Израиль                     10\n",
            "Латвия                       9\n",
            "Канада                       9\n",
            "Литва                        9\n",
            "Турция                       8\n",
            "Нидерланды                   8\n",
            "Кыргызская Республика        7\n",
            "Италия                       6\n",
            "Япония                       6\n",
            "Netherlands                  5\n",
            "Республика Беларусь          5\n",
            "Финляндия                    5\n",
            "Узбекистан                   3\n",
            "Эстония                      3\n",
            "Словакия                     2\n",
            "Молдова                      2\n",
            "Черногория                   1\n",
            "Name: country, dtype: int64\n"
          ]
        }
      ],
      "source": [
        "i=0\n",
        "for col in ['city','country']:#data.keys():\n",
        "    print(f\"{col} DISTRIBUTION\")\n",
        "    print(df[col].value_counts())\n",
        "    i+=1"
      ]
    },
    {
      "cell_type": "code",
      "execution_count": 76,
      "metadata": {
        "id": "cv9fu4HspMnj"
      },
      "outputs": [],
      "source": [
        "# Исправим названия городов\n",
        "df.loc[(df['city']== 'Млсква')\n",
        "      |(df['city']=='Москава') \n",
        "      |(df['city']=='Москва, MOW')\n",
        "      |(df['city']=='Москва/Сочи')\n",
        "      |(df['city']=='Мрсква')\n",
        "      |(df['city']=='г. Москва')\n",
        "      |(df['city']==' Москва')\n",
        "      |(df['city']=='г.Москвах') , 'city'] = 'Москва'\n",
        "\n",
        "df.loc[(df['city']=='казань') , 'city'] = 'Казань'\n",
        "\n",
        "def correct_city(city_list, city):\n",
        "  for item in city_list:\n",
        "    df.loc[df['city']==item , 'city'] = city\n",
        "\n",
        "city_list=['Санкт ~Петербург ',\n",
        " 'Санкт петербург',\n",
        " 'Санкт-Петербрг',\n",
        " 'Санкт-Петербург',\n",
        " 'Санкт-Петербург-Москва','Cанкт-Петербург','СПб']\n",
        "correct_city(city_list,'Санкт-Петербург')"
      ]
    },
    {
      "cell_type": "code",
      "execution_count": 77,
      "metadata": {
        "colab": {
          "base_uri": "https://localhost:8080/"
        },
        "id": "DK-sU6AfpntJ",
        "outputId": "cebbd1fd-c3df-4186-cd8b-bc1fd41fe3ce"
      },
      "outputs": [
        {
          "output_type": "stream",
          "name": "stdout",
          "text": [
            "city DISTRIBUTION\n",
            "Москва              6026\n",
            "Санкт-Петербург     1756\n",
            "Екатеринбург         272\n",
            "Нижний Новгород      217\n",
            "Новосибирск          195\n",
            "                    ... \n",
            "Таганрог               1\n",
            "Великий Новгород       1\n",
            "д. Кульнево            1\n",
            "Almere                 1\n",
            "Budva                  1\n",
            "Name: city, Length: 263, dtype: int64\n"
          ]
        }
      ],
      "source": [
        "#Исправим названия стран\n",
        "df.loc[df['country']=='<span>Россия</span>', 'country'] = 'Россия'\n",
        "df.loc[df['country']=='Росссия', 'country'] = 'Россия'\n",
        "df.loc[df['country']=='РФ', 'country'] = 'Россия'\n",
        "\n",
        "df.loc[df['country']=='Республика Беларусь', 'country'] = 'Беларусь'\n",
        "\n",
        "for col in ['city']:#data.keys():,'country'\n",
        "    print(f\"{col} DISTRIBUTION\")\n",
        "    \n",
        "    print(df[col].value_counts())\n",
        "    i+=1"
      ]
    },
    {
      "cell_type": "code",
      "execution_count": 78,
      "metadata": {
        "id": "ylo-oBlJsvAq"
      },
      "outputs": [],
      "source": [
        "df['country']=df['country'].fillna('Россия')"
      ]
    },
    {
      "cell_type": "code",
      "source": [
        "bigcity=df['city'].value_counts().keys()[:2] #20"
      ],
      "metadata": {
        "id": "RaceswXorMbc"
      },
      "execution_count": 79,
      "outputs": []
    },
    {
      "cell_type": "code",
      "source": [
        "bigcity"
      ],
      "metadata": {
        "colab": {
          "base_uri": "https://localhost:8080/"
        },
        "id": "1nkiRhIPre-v",
        "outputId": "f7780390-e731-42b7-b729-92411ea6d501"
      },
      "execution_count": 80,
      "outputs": [
        {
          "output_type": "execute_result",
          "data": {
            "text/plain": [
              "Index(['Москва', 'Санкт-Петербург'], dtype='object')"
            ]
          },
          "metadata": {},
          "execution_count": 80
        }
      ]
    },
    {
      "cell_type": "code",
      "source": [
        "bigcountry = df['country'].value_counts().keys()[:1] #10\n",
        "bigcountry"
      ],
      "metadata": {
        "colab": {
          "base_uri": "https://localhost:8080/"
        },
        "id": "_b_ecYZmsrxP",
        "outputId": "5ebc8c30-ccee-4bf3-ab29-62d00c316341"
      },
      "execution_count": 81,
      "outputs": [
        {
          "output_type": "execute_result",
          "data": {
            "text/plain": [
              "Index(['Россия'], dtype='object')"
            ]
          },
          "metadata": {},
          "execution_count": 81
        }
      ]
    },
    {
      "cell_type": "code",
      "source": [
        "def make_abroad(s):\n",
        "  if s not in bigcountry:\n",
        "    s = 'Зарубежье'\n",
        "  \n",
        "  return s\n",
        "\n",
        "df['country']=df['country'].apply(make_abroad)"
      ],
      "metadata": {
        "id": "k4UTcSHqtveG"
      },
      "execution_count": 82,
      "outputs": []
    },
    {
      "cell_type": "code",
      "source": [
        "df['country'].value_counts()"
      ],
      "metadata": {
        "colab": {
          "base_uri": "https://localhost:8080/"
        },
        "id": "L5UUGIZluiDD",
        "outputId": "1c9b30cd-b91a-4ce5-ca21-108ed4d61f52"
      },
      "execution_count": 83,
      "outputs": [
        {
          "output_type": "execute_result",
          "data": {
            "text/plain": [
              "Россия       199054\n",
              "Зарубежье       946\n",
              "Name: country, dtype: int64"
            ]
          },
          "metadata": {},
          "execution_count": 83
        }
      ]
    },
    {
      "cell_type": "code",
      "source": [
        "def make_others(s):\n",
        "  if s not in bigcity:\n",
        "    s = 'Прочее'\n",
        "  \n",
        "  return s\n",
        "\n",
        "df['city']=df['city'].apply(make_others)"
      ],
      "metadata": {
        "id": "--sHBTQFtmPA"
      },
      "execution_count": 84,
      "outputs": []
    },
    {
      "cell_type": "code",
      "source": [
        "df['city'].value_counts()"
      ],
      "metadata": {
        "colab": {
          "base_uri": "https://localhost:8080/"
        },
        "id": "XiFUcg2Hxhek",
        "outputId": "0537c4fb-5c86-4476-dab3-151630a70533"
      },
      "execution_count": 85,
      "outputs": [
        {
          "output_type": "execute_result",
          "data": {
            "text/plain": [
              "Прочее             192218\n",
              "Москва               6026\n",
              "Санкт-Петербург      1756\n",
              "Name: city, dtype: int64"
            ]
          },
          "metadata": {},
          "execution_count": 85
        }
      ]
    },
    {
      "cell_type": "code",
      "source": [
        ""
      ],
      "metadata": {
        "id": "EsDYqe9u1qAq"
      },
      "execution_count": 85,
      "outputs": []
    },
    {
      "cell_type": "code",
      "source": [
        "df.insert(3, \"country_city\", df['country']+'_'+df['city'])\n",
        "cat_cols.append(\"country_city\")"
      ],
      "metadata": {
        "id": "3KB_QzSw8fDy"
      },
      "execution_count": 86,
      "outputs": []
    },
    {
      "cell_type": "markdown",
      "metadata": {
        "id": "sUlmmmJBp5yc"
      },
      "source": [
        "## Поработаем с временными полями"
      ]
    },
    {
      "cell_type": "code",
      "source": [
        ""
      ],
      "metadata": {
        "id": "K_170NNx8KlM"
      },
      "execution_count": 86,
      "outputs": []
    },
    {
      "cell_type": "code",
      "execution_count": 87,
      "metadata": {
        "colab": {
          "base_uri": "https://localhost:8080/"
        },
        "id": "DI5s6M6NvFKj",
        "outputId": "02510191-d21d-48f7-94c4-f405564602ef"
      },
      "outputs": [
        {
          "output_type": "execute_result",
          "data": {
            "text/plain": [
              "12/30/2020    2940\n",
              "8/24/2020     1806\n",
              "8/27/2020     1770\n",
              "12/31/2020    1738\n",
              "8/31/2020     1724\n",
              "              ... \n",
              "11/16/2021      28\n",
              "6/8/2020        24\n",
              "6/6/2020        22\n",
              "6/9/2020        13\n",
              "6/5/2020        13\n",
              "Name: carts_created_at, Length: 447, dtype: int64"
            ]
          },
          "metadata": {},
          "execution_count": 87
        }
      ],
      "source": [
        "df.carts_created_at.value_counts()                   "
      ]
    },
    {
      "cell_type": "code",
      "execution_count": 88,
      "metadata": {
        "id": "5UE8rlcOqFx_"
      },
      "outputs": [],
      "source": [
        "\n",
        "def strtomonth2000(s):\n",
        "\n",
        "  d=datetime.strptime(s, \"%m/%d/%Y\")\n",
        "  return (d.year-2000)*12+d.month"
      ]
    },
    {
      "cell_type": "code",
      "execution_count": 89,
      "metadata": {
        "id": "QhiUsqEIqafy"
      },
      "outputs": [],
      "source": [
        "df['month_id']=df['month_id'].apply(strtomonth2000)"
      ]
    },
    {
      "cell_type": "code",
      "execution_count": 90,
      "metadata": {
        "id": "5veawh9tqfUC"
      },
      "outputs": [],
      "source": [
        "df['carts_created_at']=df['carts_created_at'].apply(strtomonth2000)"
      ]
    },
    {
      "cell_type": "code",
      "execution_count": 91,
      "metadata": {
        "id": "e__X3R94qkLI"
      },
      "outputs": [],
      "source": [
        "df.insert(3, \"spent_monthies\", df['month_id']-df['carts_created_at'])\n",
        "df.insert(3, \"cart_month\", df['carts_created_at'] % 12)\n"
      ]
    },
    {
      "cell_type": "code",
      "source": [
        "df['gender'] = df['gender'].fillna(0)\n",
        "df['gender']=df['gender'].astype(int)"
      ],
      "metadata": {
        "id": "SlajRu_FNFlE"
      },
      "execution_count": 92,
      "outputs": []
    },
    {
      "cell_type": "code",
      "execution_count": 93,
      "metadata": {
        "id": "Wt35mLffqqTT"
      },
      "outputs": [],
      "source": [
        "cat_cols.append(\"cart_month\")\n"
      ]
    },
    {
      "cell_type": "markdown",
      "metadata": {
        "id": "ccDq9jKsq4CA"
      },
      "source": [
        "## Поработаем с полем возраст"
      ]
    },
    {
      "cell_type": "code",
      "execution_count": 94,
      "metadata": {
        "colab": {
          "base_uri": "https://localhost:8080/"
        },
        "id": "ZkdV84q3q3Ss",
        "outputId": "b2f3ad54-efb5-441f-d248-0f427fd9a200"
      },
      "outputs": [
        {
          "output_type": "stream",
          "name": "stdout",
          "text": [
            "age_indicator DISTRIBUTION\n",
            "25.0    4119\n",
            "15.0    4066\n",
            "8.0     4058\n",
            "32.0    4057\n",
            "12.0    4057\n",
            "38.0    4047\n",
            "39.0    4043\n",
            "6.0     4043\n",
            "35.0    4041\n",
            "1.0     4040\n",
            "30.0    4034\n",
            "9.0     4034\n",
            "22.0    4032\n",
            "36.0    4031\n",
            "4.0     4030\n",
            "33.0    4023\n",
            "13.0    4023\n",
            "16.0    4020\n",
            "10.0    4016\n",
            "2.0     4013\n",
            "28.0    4013\n",
            "24.0    4012\n",
            "31.0    4004\n",
            "11.0    4002\n",
            "29.0    4001\n",
            "21.0    4000\n",
            "27.0    3996\n",
            "20.0    3983\n",
            "7.0     3977\n",
            "14.0    3972\n",
            "26.0    3968\n",
            "5.0     3959\n",
            "17.0    3955\n",
            "37.0    3951\n",
            "23.0    3948\n",
            "3.0     3940\n",
            "19.0    3932\n",
            "34.0    3887\n",
            "18.0    3633\n",
            "40.0    3163\n",
            "Name: age_indicator, dtype: int64\n"
          ]
        }
      ],
      "source": [
        "i=0\n",
        "for col in ['age_indicator']:#data.keys():\n",
        "    print(f\"{col} DISTRIBUTION\")\n",
        "    print(df[col].value_counts())\n",
        "    i+=1"
      ]
    },
    {
      "cell_type": "code",
      "execution_count": 95,
      "metadata": {
        "colab": {
          "base_uri": "https://localhost:8080/",
          "height": 298
        },
        "id": "d7djlzu8rPh3",
        "outputId": "15a97941-a602-4494-f5dc-a9661c802f5f"
      },
      "outputs": [
        {
          "output_type": "execute_result",
          "data": {
            "text/plain": [
              "Text(0.5, 1.0, 'Распределение возраста')"
            ]
          },
          "metadata": {},
          "execution_count": 95
        },
        {
          "output_type": "display_data",
          "data": {
            "text/plain": [
              "<Figure size 432x288 with 1 Axes>"
            ],
            "image/png": "[encoded data removed]"
          },
          "metadata": {
            "needs_background": "light"
          }
        }
      ],
      "source": [
        "df[\"age_indicator\"].hist(bins = 40).set_title('Распределение возраста')"
      ]
    },
    {
      "cell_type": "code",
      "execution_count": 96,
      "metadata": {
        "colab": {
          "base_uri": "https://localhost:8080/"
        },
        "id": "k4ens8oTruEV",
        "outputId": "3c851515-7304-40bb-99eb-c99f2107e264"
      },
      "outputs": [
        {
          "output_type": "execute_result",
          "data": {
            "text/plain": [
              "40.0"
            ]
          },
          "metadata": {},
          "execution_count": 96
        }
      ],
      "source": [
        "max(df[\"age_indicator\"])"
      ]
    },
    {
      "cell_type": "code",
      "execution_count": 97,
      "metadata": {
        "id": "emGo5fgeu834"
      },
      "outputs": [],
      "source": [
        "df['age_indicator']=df['age_indicator'].fillna(0)\n",
        "df['age_indicator']=df['age_indicator'].astype(int)"
      ]
    },
    {
      "cell_type": "code",
      "execution_count": 98,
      "metadata": {
        "id": "0dfvH4TOvIQq"
      },
      "outputs": [],
      "source": [
        "cat_cols.append('age_indicator')"
      ]
    },
    {
      "cell_type": "markdown",
      "metadata": {
        "id": "IjTGeJP3u1-4"
      },
      "source": [
        "##Заменим все пропуски в данных"
      ]
    },
    {
      "cell_type": "code",
      "execution_count": 99,
      "metadata": {
        "colab": {
          "base_uri": "https://localhost:8080/"
        },
        "id": "yOc7L_pdmIxk",
        "outputId": "846527b5-b261-433e-d61b-a2c0f91f2c45"
      },
      "outputs": [
        {
          "output_type": "stream",
          "name": "stdout",
          "text": [
            "bought_avg_duration DISTRIBUTION\n",
            "0.0      189641\n",
            "16.0        572\n",
            "24.0        456\n",
            "18.0        432\n",
            "32.0        360\n",
            "          ...  \n",
            "159.0         2\n",
            "136.0         2\n",
            "52.0          1\n",
            "145.0         1\n",
            "129.0         1\n",
            "Name: bought_avg_duration, Length: 159, dtype: int64\n"
          ]
        }
      ],
      "source": [
        "df.loc[(df['bought_d1']+df['bought_d2']+df['bought_d3']+df['bought_d4']+df['bought_d5']==0),'bought_avg_duration']=0\n",
        "i=0\n",
        "for col in ['bought_avg_duration']:#data.keys():\n",
        "    print(f\"{col} DISTRIBUTION\")\n",
        "    print(df[col].value_counts())\n",
        "    i+=1"
      ]
    },
    {
      "cell_type": "code",
      "execution_count": 100,
      "metadata": {
        "colab": {
          "base_uri": "https://localhost:8080/"
        },
        "id": "TsakpsZMnCP7",
        "outputId": "e82a9683-89db-4981-af33-384df3d3f1fc"
      },
      "outputs": [
        {
          "output_type": "execute_result",
          "data": {
            "text/plain": [
              "0"
            ]
          },
          "metadata": {},
          "execution_count": 100
        }
      ],
      "source": [
        "# bought_avg_duration Зануляем все\n",
        "df['bought_avg_duration'].isna().sum()"
      ]
    },
    {
      "cell_type": "code",
      "execution_count": 101,
      "metadata": {
        "colab": {
          "base_uri": "https://localhost:8080/"
        },
        "id": "33areQYYMSHK",
        "outputId": "04b87c39-b001-44dd-ac51-9028193bad2d"
      },
      "outputs": [
        {
          "output_type": "stream",
          "name": "stdout",
          "text": [
            "bought_avg_duration DISTRIBUTION\n",
            "0.0      189641\n",
            "16.0        572\n",
            "24.0        456\n",
            "18.0        432\n",
            "32.0        360\n",
            "          ...  \n",
            "159.0         2\n",
            "136.0         2\n",
            "52.0          1\n",
            "145.0         1\n",
            "129.0         1\n",
            "Name: bought_avg_duration, Length: 159, dtype: int64\n"
          ]
        }
      ],
      "source": [
        "i=0\n",
        "for col in ['bought_avg_duration']:#data.keys():\n",
        "    print(f\"{col} DISTRIBUTION\")\n",
        "    print(df[col].value_counts())\n",
        "    i+=1"
      ]
    },
    {
      "cell_type": "code",
      "execution_count": 102,
      "metadata": {
        "colab": {
          "base_uri": "https://localhost:8080/"
        },
        "id": "FET5lmNQPYXa",
        "outputId": "57760f8d-c6ce-4573-8a79-162803190497"
      },
      "outputs": [
        {
          "output_type": "execute_result",
          "data": {
            "text/plain": [
              "0"
            ]
          },
          "metadata": {},
          "execution_count": 102
        }
      ],
      "source": [
        "df['bought_avg_duration'].isna().sum()"
      ]
    },
    {
      "cell_type": "code",
      "execution_count": 103,
      "metadata": {
        "id": "sWf6o_06uei9"
      },
      "outputs": [],
      "source": [
        "#df['age_indicator']=df['age_indicator'].fillna(20)\n",
        "df = df.fillna(0)"
      ]
    },
    {
      "cell_type": "markdown",
      "metadata": {
        "id": "Q0CkiEzGwusL"
      },
      "source": [
        "##Вывведем список столбцов"
      ]
    },
    {
      "cell_type": "code",
      "execution_count": 104,
      "metadata": {
        "colab": {
          "base_uri": "https://localhost:8080/"
        },
        "id": "rliZR2Asw6HW",
        "outputId": "d6530c6f-490c-4541-a7b4-cdea5abedbd5"
      },
      "outputs": [
        {
          "output_type": "execute_result",
          "data": {
            "text/plain": [
              "Index(['id', 'age_indicator', 'month_id', 'cart_month', 'spent_monthies',\n",
              "       'country_city', 'student_id', 'program_id', 'carts_created_at',\n",
              "       'spent_time_total', 'spent_time_to_complete_hw', 'completed_hw',\n",
              "       'failed_hw', 'reworked_hw', 'interacted_hw', 'avg_hw_mark',\n",
              "       'test_with_good_mark', 'test_with_great_mark', 'webinars',\n",
              "       'avg_quiz_result', 'notes', 'hw_leader', 'lessons', 'activity',\n",
              "       'bought_d1', 'bought_d2', 'bought_d3', 'bought_d4', 'bought_d5',\n",
              "       'bought_avg_duration', 'payment_type', 'promo', 'price',\n",
              "       'communication_type', 'auto_payment', 'ABC', 'city', 'country',\n",
              "       'gender', 'speed_recall', 'os', 'browser', 'platform',\n",
              "       'm_avg_talk_duration', 'm_avg_duration', 'm_missed_calls',\n",
              "       'm_total_calls', 'm_was_conversations', 'm_total_duration',\n",
              "       'p_avg_talk_duration', 'p_avg_duration', 'p_missed_calls',\n",
              "       'p_total_calls', 'p_was_conversations', 'p_total_duration',\n",
              "       'support_feedback_avg', 'feedback_avg_d1', 'feedback_avg_d2',\n",
              "       'feedback_avg_d3', 'feedback_avg_d4', 'feedback_avg_d5', 'target'],\n",
              "      dtype='object')"
            ]
          },
          "metadata": {},
          "execution_count": 104
        }
      ],
      "source": [
        "df.columns"
      ]
    },
    {
      "cell_type": "markdown",
      "metadata": {
        "id": "zr-31zZQxUwx"
      },
      "source": [
        "##Обратим внимание на часть столбцов с постоянными значениями"
      ]
    },
    {
      "cell_type": "code",
      "execution_count": 105,
      "metadata": {
        "colab": {
          "base_uri": "https://localhost:8080/"
        },
        "id": "qw4IcQ2fu3KL",
        "outputId": "da3ef587-e73c-4c19-8ebd-5372814ed6b3"
      },
      "outputs": [
        {
          "output_type": "execute_result",
          "data": {
            "text/plain": [
              " 0.0    199999\n",
              "-1.0         1\n",
              "Name: spent_time_to_complete_hw, dtype: int64"
            ]
          },
          "metadata": {},
          "execution_count": 105
        }
      ],
      "source": [
        "df.spent_time_to_complete_hw.value_counts()"
      ]
    },
    {
      "cell_type": "code",
      "execution_count": 105,
      "metadata": {
        "id": "P5j0JAgynNcS"
      },
      "outputs": [],
      "source": [
        ""
      ]
    },
    {
      "cell_type": "code",
      "execution_count": 105,
      "metadata": {
        "id": "vCPm46DTir3F"
      },
      "outputs": [],
      "source": [
        ""
      ]
    },
    {
      "cell_type": "markdown",
      "metadata": {
        "id": "VLOa56f5zfUg"
      },
      "source": [
        "## Выделим выборки"
      ]
    },
    {
      "cell_type": "code",
      "execution_count": 106,
      "metadata": {
        "colab": {
          "base_uri": "https://localhost:8080/"
        },
        "id": "T5wEuIQ50ibJ",
        "outputId": "61c704f4-92e7-40a8-fba6-e547cc1b9810"
      },
      "outputs": [
        {
          "output_type": "execute_result",
          "data": {
            "text/plain": [
              "array([dtype('O'), dtype('O'), dtype('O'), dtype('O'), dtype('O'),\n",
              "       dtype('O'), dtype('O'), dtype('O'), dtype('O')], dtype=object)"
            ]
          },
          "metadata": {},
          "execution_count": 106
        }
      ],
      "source": [
        "df.dtypes[df.dtypes == \"object\"].values"
      ]
    },
    {
      "cell_type": "markdown",
      "metadata": {
        "id": "845Wf3zJ1dhc"
      },
      "source": [
        "##Поместим все столбцы object в массив, для их дальнейшего удаления"
      ]
    },
    {
      "cell_type": "code",
      "execution_count": 107,
      "metadata": {
        "id": "Poa1_MKE08xs"
      },
      "outputs": [],
      "source": [
        "mass_object = ['id', 'carts_created_at'] #'month_id',\n",
        "\n",
        "mass_object.append('country')\n",
        "mass_object.append('city')\n",
        "\n",
        "mass_object.append('spent_time_to_complete_hw')\n",
        "# Попробуем убрать еще два малозначимых признака\n",
        "mass_object.append('hw_leader')\n",
        "mass_object.append('failed_hw')\n",
        "\n",
        "mass_object.append('notes')\n",
        "mass_object.append('avg_quiz_result')\n",
        "mass_object.extend(['bought_d1', 'bought_d2', 'bought_d3', 'bought_d4', 'bought_d5'])\n",
        "mass_object.extend(['p_avg_talk_duration', 'p_avg_duration', 'p_missed_calls',\n",
        "       'p_total_calls', 'p_was_conversations', 'p_total_duration'])\n",
        "mass_object.extend(['avg_hw_mark','test_with_good_mark', 'test_with_great_mark'])"
      ]
    },
    {
      "cell_type": "markdown",
      "metadata": {
        "id": "foI4C9ew79MA"
      },
      "source": [
        ""
      ]
    },
    {
      "cell_type": "code",
      "execution_count": 108,
      "metadata": {
        "id": "mAhVoVTj1l-D"
      },
      "outputs": [],
      "source": [
        "mass_object_1 = np.append(mass_object, \"target\")"
      ]
    },
    {
      "cell_type": "code",
      "execution_count": 109,
      "metadata": {
        "id": "czsoZexkyyTw"
      },
      "outputs": [],
      "source": [
        "X = df.drop(mass_object_1, axis = 1)\n",
        "y = df[[\"target\"]]"
      ]
    },
    {
      "cell_type": "code",
      "execution_count": 110,
      "metadata": {
        "colab": {
          "base_uri": "https://localhost:8080/"
        },
        "id": "BSNwra3e07wI",
        "outputId": "9f3fd820-4582-44e9-9d4a-8c0ecffbe237"
      },
      "outputs": [
        {
          "output_type": "execute_result",
          "data": {
            "text/plain": [
              "(200000, 38)"
            ]
          },
          "metadata": {},
          "execution_count": 110
        }
      ],
      "source": [
        "X.shape"
      ]
    },
    {
      "cell_type": "code",
      "execution_count": 111,
      "metadata": {
        "colab": {
          "base_uri": "https://localhost:8080/"
        },
        "id": "zPru39nCsmB5",
        "outputId": "a1f02f0f-03a9-4b58-b123-a9f3dda4d297"
      },
      "outputs": [
        {
          "output_type": "stream",
          "name": "stdout",
          "text": [
            "<class 'pandas.core.frame.DataFrame'>\n",
            "RangeIndex: 200000 entries, 0 to 199999\n",
            "Data columns (total 38 columns):\n",
            " #   Column                Non-Null Count   Dtype  \n",
            "---  ------                --------------   -----  \n",
            " 0   age_indicator         200000 non-null  int64  \n",
            " 1   month_id              200000 non-null  int64  \n",
            " 2   cart_month            200000 non-null  int64  \n",
            " 3   spent_monthies        200000 non-null  int64  \n",
            " 4   country_city          200000 non-null  object \n",
            " 5   student_id            200000 non-null  int64  \n",
            " 6   program_id            200000 non-null  int64  \n",
            " 7   spent_time_total      200000 non-null  float64\n",
            " 8   completed_hw          200000 non-null  float64\n",
            " 9   reworked_hw           200000 non-null  float64\n",
            " 10  interacted_hw         200000 non-null  float64\n",
            " 11  webinars              200000 non-null  float64\n",
            " 12  lessons               200000 non-null  float64\n",
            " 13  activity              200000 non-null  float64\n",
            " 14  bought_avg_duration   200000 non-null  float64\n",
            " 15  payment_type          200000 non-null  int64  \n",
            " 16  promo                 200000 non-null  object \n",
            " 17  price                 200000 non-null  float64\n",
            " 18  communication_type    200000 non-null  object \n",
            " 19  auto_payment          200000 non-null  int64  \n",
            " 20  ABC                   200000 non-null  object \n",
            " 21  gender                200000 non-null  int64  \n",
            " 22  speed_recall          200000 non-null  float64\n",
            " 23  os                    200000 non-null  object \n",
            " 24  browser               200000 non-null  object \n",
            " 25  platform              200000 non-null  object \n",
            " 26  m_avg_talk_duration   200000 non-null  float64\n",
            " 27  m_avg_duration        200000 non-null  float64\n",
            " 28  m_missed_calls        200000 non-null  float64\n",
            " 29  m_total_calls         200000 non-null  float64\n",
            " 30  m_was_conversations   200000 non-null  float64\n",
            " 31  m_total_duration      200000 non-null  float64\n",
            " 32  support_feedback_avg  200000 non-null  float64\n",
            " 33  feedback_avg_d1       200000 non-null  float64\n",
            " 34  feedback_avg_d2       200000 non-null  float64\n",
            " 35  feedback_avg_d3       200000 non-null  float64\n",
            " 36  feedback_avg_d4       200000 non-null  float64\n",
            " 37  feedback_avg_d5       200000 non-null  float64\n",
            "dtypes: float64(22), int64(9), object(7)\n",
            "memory usage: 58.0+ MB\n"
          ]
        }
      ],
      "source": [
        "X.info()"
      ]
    },
    {
      "cell_type": "code",
      "execution_count": 112,
      "metadata": {
        "id": "E-LfoARf2WGZ"
      },
      "outputs": [],
      "source": [
        "#X_train, X_test, y_train, y_test = train_test_split(X, y, test_size=0.01, random_state=42)\n",
        "X_train=X\n",
        "X_test=X\n",
        "y_train=y\n",
        "y_test=y"
      ]
    },
    {
      "cell_type": "markdown",
      "metadata": {
        "id": "X_HOvpXy2e3S"
      },
      "source": [
        "## Обучение модели"
      ]
    },
    {
      "cell_type": "code",
      "execution_count": 113,
      "metadata": {
        "id": "4ELc3D-2gos-"
      },
      "outputs": [],
      "source": [
        "\n",
        "parameters = {'depth': [10], 'n_estimators': [1000]}#, 'l2_leaf_reg': [2,3,4]}#, 'leaf_estimation_method': ['Newton'],'grow_policy':['SymmetricTree','Depthwise','Lossguide']} #, 'learning_rate': [0.001,0.005,0.01]"
      ]
    },
    {
      "cell_type": "code",
      "execution_count": 114,
      "metadata": {
        "id": "U-4XeS9k1DpY"
      },
      "outputs": [],
      "source": [
        "from sklearn.metrics import make_scorer\n",
        "def my_score(y, y_pred):\n",
        "  return 0.2* recall_score(y, y_pred, average='macro') + 0.8* precision_score(y, y_pred, average='macro')\n",
        "my_scorer=make_scorer(my_score)"
      ]
    },
    {
      "cell_type": "code",
      "execution_count": 115,
      "metadata": {
        "colab": {
          "base_uri": "https://localhost:8080/"
        },
        "id": "1ypNSGoK2czB",
        "outputId": "fa0fb7fd-6bc4-4f6f-8bf5-093444ec7749"
      },
      "outputs": [
        {
          "output_type": "stream",
          "name": "stdout",
          "text": [
            "Looking in indexes: https://pypi.org/simple, https://us-python.pkg.dev/colab-wheels/public/simple/\n",
            "Requirement already satisfied: catboost in /usr/local/lib/python3.7/dist-packages (1.0.6)\n",
            "Requirement already satisfied: six in /usr/local/lib/python3.7/dist-packages (from catboost) (1.15.0)\n",
            "Requirement already satisfied: graphviz in /usr/local/lib/python3.7/dist-packages (from catboost) (0.10.1)\n",
            "Requirement already satisfied: pandas>=0.24.0 in /usr/local/lib/python3.7/dist-packages (from catboost) (1.3.5)\n",
            "Requirement already satisfied: matplotlib in /usr/local/lib/python3.7/dist-packages (from catboost) (3.2.2)\n",
            "Requirement already satisfied: scipy in /usr/local/lib/python3.7/dist-packages (from catboost) (1.7.3)\n",
            "Requirement already satisfied: numpy>=1.16.0 in /usr/local/lib/python3.7/dist-packages (from catboost) (1.21.6)\n",
            "Requirement already satisfied: plotly in /usr/local/lib/python3.7/dist-packages (from catboost) (5.5.0)\n",
            "Requirement already satisfied: python-dateutil>=2.7.3 in /usr/local/lib/python3.7/dist-packages (from pandas>=0.24.0->catboost) (2.8.2)\n",
            "Requirement already satisfied: pytz>=2017.3 in /usr/local/lib/python3.7/dist-packages (from pandas>=0.24.0->catboost) (2022.1)\n",
            "Requirement already satisfied: cycler>=0.10 in /usr/local/lib/python3.7/dist-packages (from matplotlib->catboost) (0.11.0)\n",
            "Requirement already satisfied: kiwisolver>=1.0.1 in /usr/local/lib/python3.7/dist-packages (from matplotlib->catboost) (1.4.4)\n",
            "Requirement already satisfied: pyparsing!=2.0.4,!=2.1.2,!=2.1.6,>=2.0.1 in /usr/local/lib/python3.7/dist-packages (from matplotlib->catboost) (3.0.9)\n",
            "Requirement already satisfied: typing-extensions in /usr/local/lib/python3.7/dist-packages (from kiwisolver>=1.0.1->matplotlib->catboost) (4.1.1)\n",
            "Requirement already satisfied: tenacity>=6.2.0 in /usr/local/lib/python3.7/dist-packages (from plotly->catboost) (8.0.1)\n"
          ]
        }
      ],
      "source": [
        "!pip install catboost\n",
        "import catboost\n",
        "from sklearn.model_selection import GridSearchCV\n",
        "ignored_cols=[]\n",
        "\n",
        "\n",
        "boost = catboost.CatBoostClassifier(logging_level='Silent', od_type = \"Iter\",od_wait = 20,boosting_type='Plain',ignored_features=ignored_cols,\n",
        "                                  task_type='GPU')\n",
        "                                  \n",
        "cv = GridSearchCV(boost, param_grid=parameters, n_jobs=-1, scoring=my_scorer, return_train_score=True)\n",
        "  "
      ]
    },
    {
      "cell_type": "code",
      "execution_count": 115,
      "metadata": {
        "id": "khdTA-zzZawL"
      },
      "outputs": [],
      "source": [
        ""
      ]
    },
    {
      "cell_type": "code",
      "execution_count": 116,
      "metadata": {
        "id": "8K_JDzCJ2glP"
      },
      "outputs": [],
      "source": [
        "\n",
        "cv.fit(X_train, y_train, cat_features=cat_cols)\n",
        "clf = cv.best_estimator_"
      ]
    },
    {
      "cell_type": "code",
      "execution_count": 117,
      "metadata": {
        "id": "EvBEU9qYaTIz",
        "colab": {
          "base_uri": "https://localhost:8080/"
        },
        "outputId": "553d9eda-04ce-4945-f4cf-398b833df020"
      },
      "outputs": [
        {
          "output_type": "execute_result",
          "data": {
            "text/plain": [
              "{'add_ridge_penalty_to_loss_function': False,\n",
              " 'auto_class_weights': 'None',\n",
              " 'bagging_temperature': 1,\n",
              " 'bayesian_matrix_reg': 0.10000000149011612,\n",
              " 'best_model_min_trees': 1,\n",
              " 'boost_from_average': False,\n",
              " 'boosting_type': 'Plain',\n",
              " 'bootstrap_type': 'Bayesian',\n",
              " 'border_count': 128,\n",
              " 'class_names': [0, 1, 2, 3, 4, 5],\n",
              " 'classes_count': 0,\n",
              " 'combinations_ctr': ['Borders:CtrBorderCount=15:CtrBorderType=Uniform:TargetBorderCount=1:TargetBorderType=MinEntropy:Prior=0/1:Prior=0.5/1:Prior=1/1',\n",
              "  'FeatureFreq:CtrBorderCount=15:CtrBorderType=Median:Prior=0/1'],\n",
              " 'counter_calc_method': 'SkipTest',\n",
              " 'ctr_history_unit': 'Sample',\n",
              " 'ctr_target_border_count': 1,\n",
              " 'data_partition': 'DocParallel',\n",
              " 'depth': 10,\n",
              " 'devices': '-1',\n",
              " 'eval_metric': 'MultiClass',\n",
              " 'feature_border_type': 'GreedyLogSum',\n",
              " 'fold_permutation_block': 64,\n",
              " 'fold_size_loss_normalization': False,\n",
              " 'force_unit_auto_pair_weights': False,\n",
              " 'gpu_cat_features_storage': 'GpuRam',\n",
              " 'gpu_ram_part': 0.95,\n",
              " 'grow_policy': 'SymmetricTree',\n",
              " 'has_time': False,\n",
              " 'iterations': 1000,\n",
              " 'l2_leaf_reg': 3,\n",
              " 'leaf_estimation_backtracking': 'AnyImprovement',\n",
              " 'leaf_estimation_iterations': 1,\n",
              " 'leaf_estimation_method': 'Newton',\n",
              " 'learning_rate': 0.1912910044193268,\n",
              " 'loss_function': 'MultiClass',\n",
              " 'max_ctr_complexity': 4,\n",
              " 'max_leaves': 1024,\n",
              " 'meta_l2_exponent': 1,\n",
              " 'meta_l2_frequency': 0,\n",
              " 'min_data_in_leaf': 1,\n",
              " 'min_fold_size': 100,\n",
              " 'model_size_reg': 0.5,\n",
              " 'nan_mode': 'Min',\n",
              " 'observations_to_bootstrap': 'TestOnly',\n",
              " 'od_pval': 0,\n",
              " 'od_type': 'Iter',\n",
              " 'od_wait': 20,\n",
              " 'one_hot_max_size': 2,\n",
              " 'permutation_count': 4,\n",
              " 'pinned_memory_bytes': '104857600',\n",
              " 'pool_metainfo_options': {'tags': {}},\n",
              " 'random_seed': 0,\n",
              " 'random_strength': 1,\n",
              " 'rsm': 1,\n",
              " 'score_function': 'Cosine',\n",
              " 'simple_ctr': ['Borders:CtrBorderCount=15:CtrBorderType=Uniform:TargetBorderCount=1:TargetBorderType=MinEntropy:Prior=0/1:Prior=0.5/1:Prior=1/1',\n",
              "  'FeatureFreq:CtrBorderCount=15:CtrBorderType=MinEntropy:Prior=0/1'],\n",
              " 'task_type': 'GPU',\n",
              " 'use_best_model': False}"
            ]
          },
          "metadata": {},
          "execution_count": 117
        }
      ],
      "source": [
        "cv.best_estimator_.get_all_params()"
      ]
    },
    {
      "cell_type": "code",
      "execution_count": 118,
      "metadata": {
        "id": "ME9AQAyhsc6L",
        "colab": {
          "base_uri": "https://localhost:8080/"
        },
        "outputId": "fc848b27-34ef-42ee-902c-be83f61894e7"
      },
      "outputs": [
        {
          "output_type": "execute_result",
          "data": {
            "text/plain": [
              "{'depth': 10, 'n_estimators': 1000}"
            ]
          },
          "metadata": {},
          "execution_count": 118
        }
      ],
      "source": [
        "cv.best_params_"
      ]
    },
    {
      "cell_type": "markdown",
      "metadata": {
        "id": "aqxTaUVm2iiP"
      },
      "source": [
        "## Оценка точности"
      ]
    },
    {
      "cell_type": "code",
      "execution_count": 119,
      "metadata": {
        "id": "w_9LvW1TsBvA",
        "colab": {
          "base_uri": "https://localhost:8080/"
        },
        "outputId": "aad35471-0101-4ef3-9128-72916deef4d1"
      },
      "outputs": [
        {
          "output_type": "execute_result",
          "data": {
            "text/plain": [
              "array([0.83210092])"
            ]
          },
          "metadata": {},
          "execution_count": 119
        }
      ],
      "source": [
        "(cv.cv_results_['split0_test_score']+cv.cv_results_['split1_test_score']+cv.cv_results_['split2_test_score']+cv.cv_results_['split3_test_score']+cv.cv_results_['split4_test_score'])/5"
      ]
    },
    {
      "cell_type": "code",
      "execution_count": 120,
      "metadata": {
        "id": "aJt5-Okm2h3I"
      },
      "outputs": [],
      "source": [
        "pred = clf.predict(X_test)"
      ]
    },
    {
      "cell_type": "code",
      "execution_count": 121,
      "metadata": {
        "id": "Vz2JrMW32m3N",
        "colab": {
          "base_uri": "https://localhost:8080/"
        },
        "outputId": "50ac0390-b2f8-45a5-9c6b-1518bdb6c7f0"
      },
      "outputs": [
        {
          "output_type": "execute_result",
          "data": {
            "text/plain": [
              "0.9589661305611352"
            ]
          },
          "metadata": {},
          "execution_count": 121
        }
      ],
      "source": [
        "0.2* recall_score(y_test, pred, average='macro') + 0.8* precision_score(y_test, pred, average='macro')"
      ]
    },
    {
      "cell_type": "markdown",
      "source": [
        "##Посмотрим на важность признаков"
      ],
      "metadata": {
        "id": "JtW-wD3pymhc"
      }
    },
    {
      "cell_type": "code",
      "execution_count": 122,
      "metadata": {
        "id": "TYDNYyWR_tQL",
        "colab": {
          "base_uri": "https://localhost:8080/",
          "height": 1000
        },
        "outputId": "0b5cdeb9-7006-47eb-b870-a2db747d1a76"
      },
      "outputs": [
        {
          "output_type": "display_data",
          "data": {
            "text/plain": [
              "<Figure size 1152x1008 with 1 Axes>"
            ],
            "image/png": "[encoded data removed]"
          },
          "metadata": {
            "needs_background": "light"
          }
        }
      ],
      "source": [
        "cv1_imp = pd.Series(cv.best_estimator_.get_feature_importance(),index=X_train.columns)\n",
        "\n",
        "fig, ax = plt.subplots(figsize=(16,14))\n",
        "cv1_imp.plot.bar(ax=ax)\n",
        "ax.set_title(\"Важность признаков\")\n",
        "ax.set_ylabel('Важность, %')\n",
        "fig.tight_layout()\n"
      ]
    },
    {
      "cell_type": "markdown",
      "metadata": {
        "id": "cd2pl_c-tY6G"
      },
      "source": [
        "## Предсказание"
      ]
    },
    {
      "cell_type": "code",
      "execution_count": 123,
      "metadata": {
        "id": "iaeNhO1WzJWr",
        "colab": {
          "base_uri": "https://localhost:8080/"
        },
        "outputId": "6d9d78ef-7222-456f-cce3-220bac43e821"
      },
      "outputs": [
        {
          "output_type": "stream",
          "name": "stdout",
          "text": [
            "--2022-08-06 06:27:13--  https://lodmedia.hb.bizmrg.com/case_files/774967/test_dataset_test.csv\n",
            "Resolving lodmedia.hb.bizmrg.com (lodmedia.hb.bizmrg.com)... 217.69.142.100\n",
            "Connecting to lodmedia.hb.bizmrg.com (lodmedia.hb.bizmrg.com)|217.69.142.100|:443... connected.\n",
            "HTTP request sent, awaiting response... 200 OK\n",
            "Length: 14023004 (13M) [text/csv]\n",
            "Saving to: ‘test_dataset_test.csv.1’\n",
            "\n",
            "test_dataset_test.c 100%[===================>]  13.37M   450KB/s    in 32s     \n",
            "\n",
            "2022-08-06 06:27:47 (424 KB/s) - ‘test_dataset_test.csv.1’ saved [14023004/14023004]\n",
            "\n"
          ]
        }
      ],
      "source": [
        "!wget https://lodmedia.hb.bizmrg.com/case_files/774967/test_dataset_test.csv"
      ]
    },
    {
      "cell_type": "code",
      "execution_count": 124,
      "metadata": {
        "id": "aoU4g_HU0Bwl"
      },
      "outputs": [],
      "source": [
        "dt = pd.read_csv(\"/content/test_dataset_test.csv\")"
      ]
    },
    {
      "cell_type": "code",
      "execution_count": 125,
      "metadata": {
        "id": "5hoP1PJ_tOM0"
      },
      "outputs": [],
      "source": [
        "dt['country']=dt['country'].fillna('Россия')\n"
      ]
    },
    {
      "cell_type": "code",
      "execution_count": 126,
      "metadata": {
        "id": "43Z1sNyiCcZK"
      },
      "outputs": [],
      "source": [
        "dt['country']=dt['country'].apply(make_abroad)\n",
        "dt['city']=dt['city'].apply(make_others)\n",
        "#dt.insert(3, \"country_city\", dt['country']+dt['city'])\n",
        "dt.insert(3, \"country_city\", dt['country']+'_'+dt['city'])\n",
        "dt['month_id']=dt['month_id'].apply(strtomonth2000)\n",
        "dt['carts_created_at']=dt['carts_created_at'].apply(strtomonth2000)\n",
        "dt.insert(3, \"spent_monthies\", dt['month_id']-dt['carts_created_at'])\n",
        "dt.insert(3, \"cart_month\", dt['carts_created_at'] % 12)\n",
        "dt['gender'] = dt['gender'].fillna(0)\n",
        "dt['gender']=dt['gender'].astype(int)\n",
        "#print(min(df[\"month_id\"]))=243\n",
        "#print(max(df[\"month_id\"]))=263\n",
        "#dt['speed_recall']=dt['speed_recall'].fillna(0)\n",
        "#dt['speed_recall']=dt['speed_recall'].astype(int)\n",
        "dt['age_indicator']=dt['age_indicator'].fillna(0)\n",
        "dt['age_indicator']=dt['age_indicator'].astype(int)"
      ]
    },
    {
      "cell_type": "code",
      "source": [
        "dt = dt.fillna(0)"
      ],
      "metadata": {
        "id": "0NrcF_1LzJpD"
      },
      "execution_count": 127,
      "outputs": []
    },
    {
      "cell_type": "code",
      "execution_count": 128,
      "metadata": {
        "id": "Y535F2WqrsPm"
      },
      "outputs": [],
      "source": [
        "X_valid = dt.drop(mass_object, axis = 1)"
      ]
    },
    {
      "cell_type": "code",
      "execution_count": 129,
      "metadata": {
        "id": "MTT4yHMMsuoS",
        "colab": {
          "base_uri": "https://localhost:8080/"
        },
        "outputId": "aa5ba7a7-7c54-4651-a497-023d1577b42f"
      },
      "outputs": [
        {
          "output_type": "stream",
          "name": "stdout",
          "text": [
            "<class 'pandas.core.frame.DataFrame'>\n",
            "RangeIndex: 84997 entries, 0 to 84996\n",
            "Data columns (total 38 columns):\n",
            " #   Column                Non-Null Count  Dtype  \n",
            "---  ------                --------------  -----  \n",
            " 0   age_indicator         84997 non-null  int64  \n",
            " 1   month_id              84997 non-null  int64  \n",
            " 2   cart_month            84997 non-null  int64  \n",
            " 3   spent_monthies        84997 non-null  int64  \n",
            " 4   country_city          84997 non-null  object \n",
            " 5   student_id            84997 non-null  int64  \n",
            " 6   program_id            84997 non-null  int64  \n",
            " 7   spent_time_total      84997 non-null  float64\n",
            " 8   completed_hw          84997 non-null  float64\n",
            " 9   reworked_hw           84997 non-null  float64\n",
            " 10  interacted_hw         84997 non-null  float64\n",
            " 11  webinars              84997 non-null  float64\n",
            " 12  lessons               84997 non-null  float64\n",
            " 13  activity              84997 non-null  float64\n",
            " 14  bought_avg_duration   84997 non-null  float64\n",
            " 15  payment_type          84997 non-null  int64  \n",
            " 16  promo                 84997 non-null  object \n",
            " 17  price                 84997 non-null  float64\n",
            " 18  communication_type    84997 non-null  object \n",
            " 19  auto_payment          84997 non-null  int64  \n",
            " 20  ABC                   84997 non-null  object \n",
            " 21  gender                84997 non-null  int64  \n",
            " 22  speed_recall          84997 non-null  float64\n",
            " 23  os                    84997 non-null  object \n",
            " 24  browser               84997 non-null  object \n",
            " 25  platform              84997 non-null  object \n",
            " 26  m_avg_talk_duration   84997 non-null  float64\n",
            " 27  m_avg_duration        84997 non-null  float64\n",
            " 28  m_missed_calls        84997 non-null  float64\n",
            " 29  m_total_calls         84997 non-null  float64\n",
            " 30  m_was_conversations   84997 non-null  float64\n",
            " 31  m_total_duration      84997 non-null  float64\n",
            " 32  support_feedback_avg  84997 non-null  float64\n",
            " 33  feedback_avg_d1       84997 non-null  float64\n",
            " 34  feedback_avg_d2       84997 non-null  float64\n",
            " 35  feedback_avg_d3       84997 non-null  float64\n",
            " 36  feedback_avg_d4       84997 non-null  float64\n",
            " 37  feedback_avg_d5       84997 non-null  float64\n",
            "dtypes: float64(22), int64(9), object(7)\n",
            "memory usage: 24.6+ MB\n"
          ]
        }
      ],
      "source": [
        "X_valid.info()"
      ]
    },
    {
      "cell_type": "code",
      "execution_count": 130,
      "metadata": {
        "id": "-Gd2zByr0IAI"
      },
      "outputs": [],
      "source": [
        "y_pred = clf.predict(X_valid)"
      ]
    },
    {
      "cell_type": "code",
      "execution_count": 131,
      "metadata": {
        "id": "2F-skoiLtW8f"
      },
      "outputs": [],
      "source": [
        "index=None\n",
        "df_result=pd.concat([dt['id'],pd.DataFrame(y_pred,index,['target'])],axis=1)"
      ]
    },
    {
      "cell_type": "code",
      "execution_count": 132,
      "metadata": {
        "id": "RB2uHgsbuOfK"
      },
      "outputs": [],
      "source": [
        "df_result.to_csv('./my_submission.csv', index=None)\n",
        "df_result.to_csv('/content/drive/MyDrive/hacks_ai_2022/Netology/my_submission.csv', index=None)"
      ]
    }
  ],
  "metadata": {
    "accelerator": "GPU",
    "colab": {
      "collapsed_sections": [],
      "name": "Нетология.ipynb",
      "provenance": [],
      "include_colab_link": true
    },
    "gpuClass": "standard",
    "kernelspec": {
      "display_name": "Python 3",
      "name": "python3"
    },
    "language_info": {
      "name": "python"
    }
  },
  "nbformat": 4,
  "nbformat_minor": 0
}